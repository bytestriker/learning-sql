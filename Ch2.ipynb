{
 "cells": [
  {
   "cell_type": "code",
   "execution_count": 3,
   "metadata": {
    "collapsed": false
   },
   "outputs": [],
   "source": [
    "import pymysql as mdb\n",
    "import pandas as pd\n",
    "con = mdb.connect('localhost', 'root', 'password', 'db1') #host, user, password, #database "
   ]
  },
  {
   "cell_type": "code",
   "execution_count": 5,
   "metadata": {
    "collapsed": false
   },
   "outputs": [
    {
     "name": "stdout",
     "output_type": "stream",
     "text": [
      "columsns in employee table:\n",
      "['emp_id', 'fname', 'lname', 'start_date', 'end_date', 'superior_emp_id', 'dept_id', 'title', 'assigned_branch_id'] \n",
      "\n"
     ]
    }
   ],
   "source": [
    "schema_dict = {}\n",
    "\n",
    "with con:\n",
    "    cur = con.cursor()\n",
    "    for name in ['employee']:\n",
    "        cur.execute(\"SHOW COLUMNS FROM \"+name)\n",
    "        temp_schema = cur.fetchall()\n",
    "        \n",
    "        temp_list = []\n",
    "        for entry in temp_schema:\n",
    "            temp_list.append(entry[0])\n",
    "        schema_dict[name] = temp_list\n",
    "        \n",
    "for k, v in schema_dict.iteritems():\n",
    "    print 'columsns in',k,'table:\\n', v, '\\n'\n",
    "    \n"
   ]
  },
  {
   "cell_type": "code",
   "execution_count": 6,
   "metadata": {
    "collapsed": false
   },
   "outputs": [],
   "source": [
    "def run_query(query):\n",
    "    df = pd.read_sql_query(query,con)\n",
    "    print(df)\n",
    "    "
   ]
  },
  {
   "cell_type": "code",
   "execution_count": 20,
   "metadata": {
    "collapsed": true
   },
   "outputs": [],
   "source": [
    "#To work on Together\n",
    "#output a list of department ids, department names, and the number of employees in each"
   ]
  },
  {
   "cell_type": "code",
   "execution_count": 7,
   "metadata": {
    "collapsed": true
   },
   "outputs": [],
   "source": [
    "query = \"\"\"\n",
    "        SELECT *\n",
    "        FROM employee\n",
    "        \"\"\""
   ]
  },
  {
   "cell_type": "code",
   "execution_count": 8,
   "metadata": {
    "collapsed": false
   },
   "outputs": [
    {
     "name": "stdout",
     "output_type": "stream",
     "text": [
      "    emp_id     fname      lname  start_date end_date  superior_emp_id  \\\n",
      "0        1   Michael      Smith  2001-06-22     None              NaN   \n",
      "1        2     Susan     Barker  2002-09-12     None              1.0   \n",
      "2        3    Robert      Tyler  2000-02-09     None              1.0   \n",
      "3        4     Susan  Hawthorne  2002-04-24     None              3.0   \n",
      "4        5      John    Gooding  2003-11-14     None              4.0   \n",
      "5        6     Helen    Fleming  2004-03-17     None              4.0   \n",
      "6        7     Chris     Tucker  2004-09-15     None              6.0   \n",
      "7        8     Sarah     Parker  2002-12-02     None              6.0   \n",
      "8        9      Jane   Grossman  2002-05-03     None              6.0   \n",
      "9       10     Paula    Roberts  2002-07-27     None              4.0   \n",
      "10      11    Thomas    Ziegler  2000-10-23     None             10.0   \n",
      "11      12  Samantha    Jameson  2003-01-08     None             10.0   \n",
      "12      13      John      Blake  2000-05-11     None              4.0   \n",
      "13      14     Cindy      Mason  2002-08-09     None             13.0   \n",
      "14      15     Frank    Portman  2003-04-01     None             13.0   \n",
      "15      16   Theresa    Markham  2001-03-15     None              4.0   \n",
      "16      17      Beth     Fowler  2002-06-29     None             16.0   \n",
      "17      18      Rick     Tulman  2002-12-12     None             16.0   \n",
      "\n",
      "    dept_id               title  assigned_branch_id  \n",
      "0         3           President                   1  \n",
      "1         3      Vice President                   1  \n",
      "2         3           Treasurer                   1  \n",
      "3         1  Operations Manager                   1  \n",
      "4         2        Loan Manager                   1  \n",
      "5         1         Head Teller                   1  \n",
      "6         1              Teller                   1  \n",
      "7         1              Teller                   1  \n",
      "8         1              Teller                   1  \n",
      "9         1         Head Teller                   2  \n",
      "10        1              Teller                   2  \n",
      "11        1              Teller                   2  \n",
      "12        1         Head Teller                   3  \n",
      "13        1              Teller                   3  \n",
      "14        1              Teller                   3  \n",
      "15        1         Head Teller                   4  \n",
      "16        1              Teller                   4  \n",
      "17        1              Teller                   4  \n"
     ]
    }
   ],
   "source": [
    "run_query(query)"
   ]
  },
  {
   "cell_type": "code",
   "execution_count": null,
   "metadata": {
    "collapsed": true
   },
   "outputs": [],
   "source": [
    "#what if you wanted to create  a new set of groups, grouping customers by the total\n",
    "#amount of money in their deposit accounts?\n",
    "#How can we create a table with the features \"name\", low_limit, high_limit using just a select statement?"
   ]
  },
  {
   "cell_type": "code",
   "execution_count": 27,
   "metadata": {
    "collapsed": true
   },
   "outputs": [],
   "source": [
    "#now, what if we wanted to count how many customers fall into each group based on their total account balances?"
   ]
  },
  {
   "cell_type": "code",
   "execution_count": 9,
   "metadata": {
    "collapsed": false
   },
   "outputs": [
    {
     "name": "stdout",
     "output_type": "stream",
     "text": [
      "           name  num_customers\n",
      "0  Average Joes              2\n",
      "1  Heavy Hitter              4\n",
      "2     Small Fry              5\n"
     ]
    }
   ],
   "source": [
    "#This answer also checks for a specific product type, hence the extra join on the product table in the first query\n",
    "query = \"SELECT groups.name, COUNT(*) num_customers\\\n",
    "         FROM\\\n",
    "           (SELECT SUM(a.avail_balance) cust_balance\\\n",
    "            FROM account a INNER JOIN product p\\\n",
    "            ON a.product_cd = p.product_cd\\\n",
    "            WHERE p.product_type_cd = 'ACCOUNT'\\\n",
    "            GROUP BY a.cust_id) cust_rollup\\\n",
    "            INNER JOIN\\\n",
    "            (SELECT 'Small Fry' name, 0 low_limit, 4999.99 high_limit \\\n",
    "                 UNION ALL \\\n",
    "                 SELECT 'Average Joes' name, 5000 low_limit, 9999.99 high_limit\\\n",
    "                 UNION ALL\\\n",
    "                 SELECT 'Heavy Hitter' name, 10000 low_limit, 999999 high_limit) groups\\\n",
    "            ON cust_rollup.cust_balance\\\n",
    "                BETWEEN groups.low_limit and groups.high_limit\\\n",
    "          GROUP BY groups.name\"\n",
    "\n",
    "run_query(query)"
   ]
  },
  {
   "cell_type": "code",
   "execution_count": null,
   "metadata": {
    "collapsed": true
   },
   "outputs": [],
   "source": []
  },
  {
   "cell_type": "code",
   "execution_count": null,
   "metadata": {
    "collapsed": true
   },
   "outputs": [],
   "source": []
  }
 ],
 "metadata": {
  "kernelspec": {
   "display_name": "Python [full_anaconda_py27]",
   "language": "python",
   "name": "Python [full_anaconda_py27]"
  },
  "language_info": {
   "codemirror_mode": {
    "name": "ipython",
    "version": 2
   },
   "file_extension": ".py",
   "mimetype": "text/x-python",
   "name": "python",
   "nbconvert_exporter": "python",
   "pygments_lexer": "ipython2",
   "version": "2.7.12"
  }
 },
 "nbformat": 4,
 "nbformat_minor": 0
}
